{
  "cells": [
    {
      "cell_type": "markdown",
      "source": [
        "# Sample scripts accompanying \"Comprehensive computational analysis of epigenetic descriptors affecting CRISPR-Cas9 off-target activity\""
      ],
      "metadata": {
        "id": "ITRhfXYh-A9y"
      }
    },
    {
      "cell_type": "markdown",
      "source": [
        "## Setup and Installation"
      ],
      "metadata": {
        "id": "bg5mlfb-6gOY"
      }
    },
    {
      "cell_type": "code",
      "execution_count": null,
      "metadata": {
        "id": "DOfolk4TN-pS"
      },
      "outputs": [],
      "source": [
        "#@title Set Folder Prefix\n",
        "\n",
        "##########################################\n",
        "######## EDIT AND RUN THIS FIRST #########\n",
        "##########################################\n",
        "\n",
        "# Set this to the folder where the python scripts and IPython notebooks\n",
        "# are located\n",
        "folder_prefix = '/content/drive/MyDrive/nuc_occup/sample_script/'"
      ]
    },
    {
      "cell_type": "code",
      "execution_count": null,
      "metadata": {
        "colab": {
          "base_uri": "https://localhost:8080/"
        },
        "id": "zkGj07FufZJF",
        "outputId": "25d7edcf-7036-41a2-f4be-a53e60aeb90f"
      },
      "outputs": [
        {
          "output_type": "stream",
          "name": "stdout",
          "text": [
            "Looking in indexes: https://pypi.org/simple, https://us-python.pkg.dev/colab-wheels/public/simple/\n",
            "Requirement already satisfied: xgboost in /usr/local/lib/python3.7/dist-packages (0.90)\n",
            "Collecting xgboost\n",
            "  Downloading xgboost-1.6.2-py3-none-manylinux2014_x86_64.whl (255.9 MB)\n",
            "\u001b[K     |████████████████████████████████| 255.9 MB 41 kB/s \n",
            "\u001b[?25hRequirement already satisfied: numpy in /usr/local/lib/python3.7/dist-packages (from xgboost) (1.21.6)\n",
            "Requirement already satisfied: scipy in /usr/local/lib/python3.7/dist-packages (from xgboost) (1.7.3)\n",
            "Installing collected packages: xgboost\n",
            "  Attempting uninstall: xgboost\n",
            "    Found existing installation: xgboost 0.90\n",
            "    Uninstalling xgboost-0.90:\n",
            "      Successfully uninstalled xgboost-0.90\n",
            "Successfully installed xgboost-1.6.2\n"
          ]
        }
      ],
      "source": [
        "#@title Upgrade XGBoost\n",
        "!pip install xgboost --upgrade # the code works on xgboost >=1.6.2\n",
        "# RESTART THE RUNTIME IF XGBOOST HAS UPGRADED"
      ]
    },
    {
      "cell_type": "markdown",
      "source": [
        "## Sample Scripts for XGBoost model"
      ],
      "metadata": {
        "id": "6QFR8XLs7PKN"
      }
    },
    {
      "cell_type": "markdown",
      "source": [
        "### 1. Example Usage of XGBoost model\n",
        "Corresponds to xgb_predict_one.py"
      ],
      "metadata": {
        "id": "GAfibS_b6nP3"
      }
    },
    {
      "cell_type": "code",
      "execution_count": null,
      "metadata": {
        "colab": {
          "base_uri": "https://localhost:8080/"
        },
        "id": "cyDEGYtquPD2",
        "outputId": "ab682707-dd15-4abe-f126-84794f8e8cf5"
      },
      "outputs": [
        {
          "output_type": "stream",
          "name": "stdout",
          "text": [
            "Predicted CRISPR-Cas9 Cleavage Activity: -1.054\n"
          ]
        }
      ],
      "source": [
        "import pandas as pd\n",
        "import xgboost as xgb\n",
        "\n",
        "# This Python script uses the following data and model files:\n",
        "# 1. An example input CSV file with one row, namely one CRISPR-Cas9 cleavage\n",
        "#    activity datapoint from the crisprSQL dataset in the paper\n",
        "example_loc = folder_prefix + 'data/example_input.csv'\n",
        "# 2. The XGBoost tree model used for making CRISPR-Cas9 cleavage activity\n",
        "#    prediction\n",
        "xgb_loc = folder_prefix + 'models/xgb_model.json'\n",
        "\n",
        "# Create and load the XGBoost model\n",
        "# Use XGBRegressor since CRISPR-Cas9 cleavage activity values are continuous\n",
        "xgb_model = xgb.XGBRegressor()\n",
        "xgb_model.load_model(xgb_loc)\n",
        "\n",
        "# Read the input CSV file\n",
        "example_df = pd.read_csv(example_loc)\n",
        "\n",
        "# Make the prediction\n",
        "pred = xgb_model.predict(example_df.astype('float'))\n",
        "\n",
        "# Print the result\n",
        "# -1.054 is the predicted CRISPR-Cas9 cleavage activity value\n",
        "print('Predicted CRISPR-Cas9 Cleavage Activity: {:.3f}'.format(pred[0]))"
      ]
    },
    {
      "cell_type": "markdown",
      "source": [
        "### 2. Use XGBoost model to predict CRISPR cleavage activity for 2000 randomly selected points from the  crisprSQL dataset\n",
        "Corresponds to xgb_predict.py"
      ],
      "metadata": {
        "id": "uKcbAdb96uGL"
      }
    },
    {
      "cell_type": "code",
      "execution_count": null,
      "metadata": {
        "colab": {
          "base_uri": "https://localhost:8080/"
        },
        "id": "9WKId3qNiCnr",
        "outputId": "e8d2975e-b55b-40a5-a0a1-b317c6a0e9ab"
      },
      "outputs": [
        {
          "output_type": "stream",
          "name": "stdout",
          "text": [
            "Predicted CRISPR-Cas9 Cleavage Activities: [-1.0535808 -3.4915433 -1.7820611 ... -0.7105575 -1.2672865 -4.081657 ]\n",
            "Read the full list of predictions at /content/drive/MyDrive/nuc_occup/sample_script/out/xgb_preds.csv\n"
          ]
        }
      ],
      "source": [
        "import pandas as pd\n",
        "import xgboost as xgb\n",
        "\n",
        "# This Python script uses the following data and model files:\n",
        "# 1. An input CSV file containing 2000 random experimental/augmented\n",
        "#    CRISPR-Cas9 cleavage activity datapoints from the crisprSQL dataset\n",
        "#    in the paper\n",
        "csv_loc = folder_prefix + 'data/crisprSQL_dataset_2000.csv'\n",
        "# 2. The XGBoost tree model used for making CRISPR-Cas9 cleavage activity\n",
        "#    prediction\n",
        "xgb_loc = folder_prefix + 'models/xgb_model.json'\n",
        "\n",
        "# We will save the predictions in the \"out\" folder\n",
        "out_loc = folder_prefix + 'out/xgb_preds.csv'\n",
        "\n",
        "# Create and load the XGBoost model\n",
        "# Use XGBRegressor since CRISPR-Cas9 cleavage activity values are continuous\n",
        "xgb_model = xgb.XGBRegressor()\n",
        "xgb_model.load_model(xgb_loc)\n",
        "\n",
        "# Read the input CSV file\n",
        "X_df = pd.read_csv(csv_loc)\n",
        "\n",
        "# Make predictions\n",
        "preds = xgb_model.predict(X_df)\n",
        "\n",
        "# Save the predictions\n",
        "pd.DataFrame(preds).to_csv(out_loc, index=None)\n",
        "\n",
        "# Print results\n",
        "# Predicted CRISPR-Cas9 Cleavage Activities: [-1.0535808 -3.4915433 -1.7820611 ...\n",
        "# -0.7105575 -1.2672865 -4.081657 ]\n",
        "print('Predicted CRISPR-Cas9 Cleavage Activities: ' + str(preds))\n",
        "print('Read the full list of predictions at ' + out_loc)"
      ]
    },
    {
      "cell_type": "markdown",
      "source": [
        "### 3. Varying Nucleotide BDM, GC147 and NuPoP (Affinity) values in XGBoost model\n",
        "Corresponds to xgb_vary.py"
      ],
      "metadata": {
        "id": "pidMdAys7MuE"
      }
    },
    {
      "cell_type": "code",
      "execution_count": 18,
      "metadata": {
        "colab": {
          "base_uri": "https://localhost:8080/",
          "height": 858
        },
        "id": "fF37NVM0fWdt",
        "outputId": "a09363c8-bc4b-4c98-b0ee-00ea29dd2a55"
      },
      "outputs": [
        {
          "output_type": "stream",
          "name": "stdout",
          "text": [
            "Nucleotide BDM's value ranges from 172.66 to 480.48\n"
          ]
        },
        {
          "output_type": "display_data",
          "data": {
            "text/plain": [
              "<Figure size 432x288 with 1 Axes>"
            ],
            "image/png": "[encoded data removed]"
          },
          "metadata": {
            "needs_background": "light"
          }
        },
        {
          "output_type": "stream",
          "name": "stdout",
          "text": [
            "GC147's value ranges from 0.25 to 0.86\n"
          ]
        },
        {
          "output_type": "display_data",
          "data": {
            "text/plain": [
              "<Figure size 432x288 with 1 Axes>"
            ],
            "image/png": "[encoded data removed]"
          },
          "metadata": {
            "needs_background": "light"
          }
        },
        {
          "output_type": "stream",
          "name": "stdout",
          "text": [
            "NuPoP (Affinity)'s value ranges from 0.50 to 2.13\n"
          ]
        },
        {
          "output_type": "display_data",
          "data": {
            "text/plain": [
              "<Figure size 432x288 with 1 Axes>"
            ],
            "image/png": "[encoded data removed]"
          },
          "metadata": {
            "needs_background": "light"
          }
        }
      ],
      "source": [
        "import numpy as np\n",
        "import pandas as pd\n",
        "import xgboost as xgb\n",
        "import matplotlib.pyplot as plt\n",
        "\n",
        "# In the paper, we identified Nucleotide BDM, GC147 and NuPoP (Affinity) as\n",
        "# important computed nucleosome organization-related scores. Thus, in this\n",
        "# Python script, we vary the values of these scores, and see how such varied\n",
        "# values affect XGBoost's predictions.\n",
        "\n",
        "# This Python script uses the following data and model files:\n",
        "# 1. An input CSV file containing 2000 random experimental/augmented datapoints\n",
        "#    from the crisprSQL dataset in the paper\n",
        "csv_loc = folder_prefix + 'data/crisprSQL_dataset_2000.csv'\n",
        "# 2. The XGBoost tree model used for making CRISPR-Cas9 cleavage activity\n",
        "#    prediction\n",
        "xgb_loc = folder_prefix + 'models/xgb_model.json'\n",
        "\n",
        "# The plots generated will be saved in these relative locations\n",
        "out_dict = {'Nucleotide BDM': 'out/xgb_vary_nucleotide_bdm.pdf',\n",
        "            'GC147': 'out/xgb_vary_gc147.pdf',\n",
        "            'NuPoP (Affinity)': 'out/xgb_vary_nupop_affinity.pdf'}\n",
        "\n",
        "### IMPORTANT CONSTANTS ### \n",
        "# Don't change these!\n",
        "TAR_SEQ_LEN = 23 # target DNA sequence's length\n",
        "\n",
        "# Feel free to change these\n",
        "NUM_SAMPLES = 5 # Number of random datapoints to select for visualization,\n",
        "                 # i.e., number of row to select from the input CSV file\n",
        "NUM_VARIED = 20 # Number of varied points per random datapoint\n",
        "###########################\n",
        "\n",
        "# Read the input CSV file\n",
        "X_df = pd.read_csv(csv_loc)\n",
        "\n",
        "# Create and load the XGBoost model\n",
        "# Use XGBRegressor since CRISPR-Cas9 cleavage activity values are continuous\n",
        "xgb_model = xgb.XGBRegressor()\n",
        "xgb_model.load_model(xgb_loc)\n",
        "\n",
        "# These are the column/feature names corresponding to ...\n",
        "# (a) Nucleotide BDM\n",
        "NBDM_feats = ['NucleotideBDM_' + str(i) for i in range(1, 1 + TAR_SEQ_LEN)]\n",
        "# (b) GC147\n",
        "GC_feats = ['GCContent_' + str(i) for i in range(1, 1 + TAR_SEQ_LEN)]\n",
        "# (c) NuPoP (Affinity)\n",
        "NuPoP_Aff_feats = ['NuPoP_Affinity_147_h'] + \\\n",
        "            ['NuPoP_Affinity_147_h.' + str(i) for i in range(1, TAR_SEQ_LEN)]\n",
        "# Put these features into a dictionary\n",
        "feats_dict = {'Nucleotide BDM': NBDM_feats,\n",
        "              'GC147': GC_feats,\n",
        "              'NuPoP (Affinity)': NuPoP_Aff_feats}\n",
        "\n",
        "# To obtain sensible value ranges, we exclude data points with zeros across\n",
        "# all computed nucleosome organization-related score, since these zeros arise\n",
        "# from data imputation during training.\n",
        "non_zero_X_df = X_df[X_df['GCContent_1'] > 0]\n",
        "\n",
        "# Set values ranges for each computed score to be within the minimum and\n",
        "# maximum value of the respective features, i.e., we vary within the ranges\n",
        "# of the dataset.\n",
        "ranges_dict = {'Nucleotide BDM': (non_zero_X_df[NBDM_feats].min(axis=1).min(),\n",
        "                                  non_zero_X_df[NBDM_feats].max(axis=1).max()),\n",
        "              'GC147': (non_zero_X_df[GC_feats].min(axis=1).min(),\n",
        "                        non_zero_X_df[GC_feats].max(axis=1).max()),\n",
        "              'NuPoP (Affinity)': (non_zero_X_df[NuPoP_Aff_feats].min(axis=1).min(),\n",
        "                                   non_zero_X_df[NuPoP_Aff_feats].max(axis=1).max())}\n",
        "\n",
        "# We select NUM_SAMPLES random data points...\n",
        "X_sample = X_df.sample(NUM_SAMPLES)\n",
        "\n",
        "# Generate plots for each of the three computed scores\n",
        "for feat_name, feats in feats_dict.items():\n",
        "  min_val, max_val = ranges_dict[feat_name]\n",
        "  print(\"{}'s value ranges from {:.2f} to {:.2f}\".format(feat_name,\n",
        "                                                         min_val, max_val))\n",
        "\n",
        "  # For each data point...\n",
        "  for i in range(NUM_SAMPLES):\n",
        "    point_chosen = X_sample.iloc[i]\n",
        "\n",
        "    # Create a Pandas dataframe for the random datapoint\n",
        "    example_df = pd.DataFrame(point_chosen).transpose()\n",
        "\n",
        "    # Determine the varied values to change to\n",
        "    varied_vals = np.linspace(min_val, max_val, NUM_VARIED)\n",
        "\n",
        "    # Create the artificial datapoints containing the varied values\n",
        "    vary_df = example_df.loc[example_df.index.repeat(len(varied_vals))]\n",
        "    for feat in feats:\n",
        "      vary_df[feat] = varied_vals\n",
        "\n",
        "    # Make predictions for these artificial datapoints\n",
        "    preds = xgb_model.predict(vary_df)\n",
        "\n",
        "    # Plot the line\n",
        "    plt.plot(varied_vals, preds)\n",
        "\n",
        "  # Set...\n",
        "  # the plot's minimum and maximum x-value, ...\n",
        "  plt.xlim(min_val, max_val)\n",
        "  # the x-axis's name, and\n",
        "  plt.xlabel(\"Varied {} Value\".format(feat_name))\n",
        "  # the y-axis's name\n",
        "  plt.ylabel(\"Predicted CRISPR-Cas9 Cleavage Activity\")\n",
        "\n",
        "  # Save the plot\n",
        "  plt.savefig(folder_prefix + out_dict[feat_name])\n",
        "\n",
        "  # This is an IPython notebook, so let's show the figures when running\n",
        "  # this cell\n",
        "  plt.show()\n",
        "\n",
        "  # Close the current figure\n",
        "  plt.close()\n",
        " \n",
        "# The script prints:\n",
        "# Nucleotide BDM's value ranges from 172.66 to 480.48\n",
        "# GC147's value ranges from 0.25 to 0.86\n",
        "# NuPoP (Affinity)'s value ranges from 0.50 to 2.13\n",
        "\n",
        "# We observe the following tendencies in the plots:\n",
        "#   - low Nucleotide BDM value corresponds to low predicted CRISPR-Cas9 cleavage\n",
        "#     activity value\n",
        "#   - increasing GC147 increases predicted CRISPR-Cas9 cleavage activity value\n",
        "#   - high NuPoP (Affinity) value corresponds to low predicted CRISPR-Cas9\n",
        "#     cleavage activity value"
      ]
    },
    {
      "cell_type": "markdown",
      "metadata": {
        "id": "XqsmM7l-5FXv"
      },
      "source": [
        "## Sample Scripts for convolutional neural network (CNN) model"
      ]
    },
    {
      "cell_type": "markdown",
      "source": [
        "### 0. PyTorch CNN model architecture\n",
        "\n",
        "RUN THIS BEFORE ANY OF THE CODE BELOW\n",
        "\n",
        "Corresponds to cnn.py"
      ],
      "metadata": {
        "id": "UPrp14CRAnTb"
      }
    },
    {
      "cell_type": "code",
      "execution_count": 28,
      "metadata": {
        "id": "X2lkWjcj5OrA"
      },
      "outputs": [],
      "source": [
        "import torch\n",
        "import pickle\n",
        "import pandas as pd\n",
        "import numpy as np\n",
        "\n",
        "### IMPORTANT CONSTANTS ###\n",
        "tarSeqLen = 23 # target DNA sequence's length\n",
        "###########################\n",
        "\n",
        "class GaussianNoise(torch.nn.Module):\n",
        "  ''' Custom module to implement Gaussian random noise\n",
        "  in nn.Sequential containers.\n",
        "\n",
        "  Attributes:\n",
        "    mean: Float indicating the Gaussian noise's mean.\n",
        "    stdev: Float indicating the Gaussian noise's standard deviation.\n",
        "  '''\n",
        "  def __init__(self, mean, stdev):\n",
        "    ''' Initializes GaussianNoise with mean and standard deviation.\n",
        "    Input:\n",
        "      mean: Float indicating the Gaussian noise's mean.\n",
        "      stdev: Float indicating the Gaussian noise's standard deviation.\n",
        "    Output:\n",
        "      None\n",
        "    '''\n",
        "    super(GaussianNoise, self).__init__()\n",
        "    self.mean = mean\n",
        "    self.stdev = stdev\n",
        "\n",
        "  def forward(self, ins):\n",
        "    ''' Forward pass in layer. Only adds noise during training. '''\n",
        "    if self.training:\n",
        "      noise = ins.data.new(ins.size()).normal_(self.mean, self.stdev)\n",
        "      return ins + noise\n",
        "    return ins\n",
        "\n",
        "class ConvolutionalNet(torch.nn.Module):\n",
        "  ''' PyTorch convolutional neural network (CNN) regression model used for\n",
        "  predicting CRISPR-Cas9 (off-)target activity values.\n",
        "\n",
        "  Non-layer attributes:\n",
        "    device: The compute device used for tensor computations (e.g., cpu, gpu).\n",
        "    p: Dropout probability used in EncodeLayer1's nn.Dropout layer.\n",
        "    mean: Mean used in EncodeLayer1's GaussianNoise layer.\n",
        "    stdev: Standard deviation used in EncodeLayer1's GaussianNoise layer.\n",
        "    batchnorm_momentum: Momentum of BatchNorm's running estimates.\n",
        "    epiDim: Number of epigenetic features (always 22).\n",
        "  \n",
        "  Layer attributes:\n",
        "    BatchNorm: 1D BatchNorm layer.\n",
        "    EncodeLayer1: nn.Sequential block consisting of a Conv1d,\n",
        "                  GaussianNoise, Dropout and then a LeakyReLU layer.\n",
        "    EncodeLayer2: nn.Sequential block consisting of a Conv1d\n",
        "                  and then a LeakyReLU.\n",
        "    EncodeLayer3: nn.Sequential block consisting of a Conv1d, BatchNorm\n",
        "                  and then a LeakyReLU.\n",
        "    ConjoinedLayer1: nn.Sequential block consisting of a Conv1d, MaxPool1d\n",
        "                  and then a ReLU.\n",
        "    ConjoinedLayer2: nn.Sequential block consisting of a Conv1d, MaxPool1d\n",
        "                  and then a ReLU.\n",
        "    conjoinedLinear: nn.Linear layer.\n",
        "  '''\n",
        "  \n",
        "  def __init__(self, epiDim, device=None,\n",
        "               p = 0.0, mean = 0, stdev = 0.254, batchnorm_momentum = 0.1):\n",
        "    ''' Initializes ConvolutionalNet with training parameters\n",
        "    and neural net layers\n",
        "\n",
        "    Input:\n",
        "      epiDim: Number of epigenetic features (always 22).\n",
        "      device: The compute device used for tensor computations\n",
        "              (e.g., cpu, gpu).\n",
        "      p: Dropout probability used in EncodeLayer1's nn.Dropout layer.\n",
        "      mean: Mean used in EncodeLayer1's GaussianNoise layer.\n",
        "      stdev: Standard deviation used in EncodeLayer1's GaussianNoise layer.\n",
        "      batchnorm_momentum: Momentum of BatchNorm's running estimates.\n",
        "    \n",
        "    Output:\n",
        "      None\n",
        "    '''\n",
        "    super(ConvolutionalNet, self).__init__()\n",
        "    self.device = device\n",
        "    self.p, self.mean, self.stdev = p, mean, stdev\n",
        "    self.batchnorm_momentum = batchnorm_momentum\n",
        "    self.epiDim = epiDim\n",
        "    self.BatchNorm = torch.nn.BatchNorm1d(self.epiDim,\n",
        "                                          momentum=self.batchnorm_momentum)\n",
        "    self.BatchNorm.to(self.device)\n",
        "\n",
        "    # Encode Layers\n",
        "    # don't set batchnorm_momentum as this will probably mess up\n",
        "    # the running stats\n",
        "    self.EncodeLayer1 = torch.nn.Sequential(\n",
        "      torch.nn.Conv1d(int(self.epiDim), 32, kernel_size=3, stride=2,\n",
        "                      padding=0),\n",
        "      GaussianNoise(self.mean, self.stdev), # set Gaussian mean and stdev\n",
        "      torch.nn.Dropout(p=self.p), # set dropout p\n",
        "      torch.nn.LeakyReLU(0.2)\n",
        "      )\n",
        "    self.EncodeLayer1.to(self.device)\n",
        "\n",
        "    self.EncodeLayer2 = torch.nn.Sequential(\n",
        "      torch.nn.Conv1d(32, 64, kernel_size=3, stride=1, padding=0),\n",
        "      torch.nn.LeakyReLU(0.2)\n",
        "      )\n",
        "    self.EncodeLayer2.to(self.device)\n",
        "\n",
        "\n",
        "    self.EncodeLayer3 = torch.nn.Sequential(\n",
        "      torch.nn.Conv1d(64, 128, kernel_size=3, stride=2, padding=0),\n",
        "      torch.nn.BatchNorm1d(128),\n",
        "      torch.nn.LeakyReLU(0.2)\n",
        "      )\n",
        "    self.EncodeLayer3.to(self.device)\n",
        "\n",
        "    # Conjoined Layers\n",
        "    self.conjoinedLayer1 = torch.nn.Sequential(\n",
        "      torch.nn.Conv1d(128, 256, kernel_size=3, stride=1, padding=0),\n",
        "      torch.nn.MaxPool1d(kernel_size=3, padding=1, stride=1), # preserve\n",
        "                                                              # dimensions\n",
        "      torch.nn.ReLU()\n",
        "      )\n",
        "    self.conjoinedLayer1.to(self.device)\n",
        "\n",
        "    self.conjoinedLayer2 = torch.nn.Sequential(\n",
        "      torch.nn.Conv1d(256, 512, kernel_size=2, stride=1, padding=0),\n",
        "      torch.nn.MaxPool1d(kernel_size=3, padding=1, stride=1),\n",
        "      torch.nn.ReLU()\n",
        "      )\n",
        "    self.conjoinedLayer2.to(self.device)\n",
        "\n",
        "    self.conjoinedLinear = torch.nn.Linear(512, 1)\n",
        "    self.conjoinedLinear.to(self.device)\n",
        "\n",
        "  def forward(self, x):\n",
        "    ''' Performs a forward pass using the instantiated ConvolutionalNet\n",
        "    model.\n",
        "\n",
        "    Input:\n",
        "      x: PyTorch tensor as input to the ConvolutionalNet model.\n",
        "         The tensor contains the 22 epigenetic features.\n",
        "         Dimension: (X.shape[0], epiDim, tarSeqLen), where\n",
        "           - X.shape[0]         is the # of datapoints,\n",
        "           - epiDim (== 22)     is the # of epigenetic features \n",
        "           - tarSeqLen (== 23)  is the target sequence's length.\n",
        "\n",
        "    Output:\n",
        "      out: PyTorch tensor containing predicted CRISPR-Cas9 (off-)target\n",
        "           cleavage activity values.\n",
        "    '''\n",
        "    x = x.view(x.size(0), self.epiDim, -1).to(self.device)\n",
        "    x = self.BatchNorm(x)\n",
        "\n",
        "    # forward pass thru encode layers\n",
        "    x_enc = self.EncodeLayer1(x)\n",
        "    x_enc = self.EncodeLayer2(x_enc)\n",
        "    seq_encoding = self.EncodeLayer3(x_enc)\n",
        "\n",
        "    # forward pass thru conjoined layers\n",
        "    out = self.conjoinedLayer1(seq_encoding)\n",
        "    out = self.conjoinedLayer2(out)\n",
        "\n",
        "    # flatten last axis to 512 x 1\n",
        "    out = out.reshape(out.size(0), -1)\n",
        "    \n",
        "    # forward pass thru linear layer\n",
        "    out = self.conjoinedLinear(out)\n",
        "    return out # regression\n",
        "\n",
        "def vecToMatEncoding(X, numBpWise=0):\n",
        "  ''' Formats the epigenetic feature-containing PyTorch tensor so that it\n",
        "      is ready as input to the ConvolutionalNet model.\n",
        "  \n",
        "      To do this, we first transpose the first numBpWise*tarSeqLen columns\n",
        "      in PyTorch Tensor X. These columns come in sets of tarSeqLen, where\n",
        "      each set corresponds to a base pair-resolved computed nucleosome\n",
        "      organization score. Then, for the remaining columns in X, we repeat\n",
        "      each column tarSeqLen times. Finally, we concatenate the two tensors\n",
        "      together to form the output. Here is a conceptual visualization of how\n",
        "      this function transforms each column in X\n",
        "\n",
        "      bp-resolved column features: a, b, ..., m (there are 13 of these)\n",
        "      non-bp-resolved column features: n, o,..., v (there are 9 of these)\n",
        "                | vecToMatEncoding\n",
        "                |\n",
        "                v\n",
        "      X (size 308)     : [aa...abb...b...mm...mno...v]\n",
        "      output (size 22 x 23): [[a...a], [b...b], ..., [m...m],\n",
        "                              [n...n], [o...o], ..., [v...v],]\n",
        "\n",
        "  Input:\n",
        "    X: 2D PyTorch tensor. Each row represents a datapoint, and\n",
        "       each column represents an epigenetic feature\n",
        "       Dimension: (# of datapoints, 308), where\n",
        "       308 = numBpWise * tarSeqLen\n",
        "             + (# of non-bp-resolved (energy/experimental) epigenetic scores)\n",
        "           = 13 * 23 + 9\n",
        "    numBpWise: Number of base pair-resolved nucleosome organization-related\n",
        "               scores/features (always 13).\n",
        "  \n",
        "  Output:\n",
        "    PyTorch tensor ready for forward pass.\n",
        "    Dimension: (X.shape[0], epiDim, tarSeqLen), where\n",
        "      - X.shape[0]         is the # of datapoints,\n",
        "      - epiDim (== 22)     is the # of epigenetic features \n",
        "      - tarSeqLen (== 23)  is the target sequence's length.\n",
        "  '''\n",
        "  \n",
        "  bpwise_features = []\n",
        "  for i in range(numBpWise):\n",
        "    # we format each base pair-wise feature to have\n",
        "    # dimension (X.shape[0], 1, tarSeqLen)\n",
        "    bpwise_features.append(X[:, i*tarSeqLen:(i+1)*tarSeqLen] \\\n",
        "                    .view(X.shape[0], tarSeqLen, 1) \\\n",
        "                    .transpose(1,2))\n",
        "\n",
        "  # None indexing means adding an axis - could also use .unsqueeze() here\n",
        "  epigenetics = X[:, numBpWise*tarSeqLen:, None].repeat(1, 1, tarSeqLen)\n",
        "\n",
        "  # return epigenetics and bpwise_features\n",
        "  return torch.cat(tuple(bpwise_features)+(epigenetics,), dim=1)"
      ]
    },
    {
      "cell_type": "markdown",
      "source": [
        "### 1. Example Usage of the PyTorch CNN model\n",
        "Corresponds to cnn_predict_one.py"
      ],
      "metadata": {
        "id": "jKNfJUKg8oqB"
      }
    },
    {
      "cell_type": "code",
      "source": [
        "import pandas as pd\n",
        "import torch\n",
        "\n",
        "# This Python script uses the following data and model files:\n",
        "# 1. An example input CSV file with one row, namely one datapoint\n",
        "# from the crisprSQL dataset in the paper\n",
        "example_loc = folder_prefix + 'data/example_input.csv'\n",
        "# 2. PyTorch model file containing the convolutional neural network (CNN) model\n",
        "#    which predicts CRISPR-Cas9 (off-)target cleavage activity.\n",
        "state_dict_loc = folder_prefix + 'models/cnn_model.pt'\n",
        "\n",
        "### IMPORTANT CONSTANTS ###\n",
        "numBpWise = 13 # Number of base pair-resolved computed\n",
        "               # nucleosome organization-related scores/features\n",
        "epiDim = 22 # The total number of epigenetic features considered\n",
        "###########################\n",
        "\n",
        "# Read in the crisprSQL data points\n",
        "X_df = pd.read_csv(example_loc)\n",
        "\n",
        "# Convert the Pandas DataFrame into a PyTorch tensor\n",
        "X_torch = torch.as_tensor(X_df.to_numpy()).float()\n",
        "\n",
        "# Decide which compute device to use when using PyTorch.\n",
        "# Use a GPU if available, CPU otherwise.\n",
        "device = torch.device('cuda' if torch.cuda.is_available() else 'cpu')\n",
        "\n",
        "# Create convolutional neural network regression PyTorch model\n",
        "torch_model = ConvolutionalNet(epiDim, device=device)\n",
        "\n",
        "# Load saved PyTorch weights\n",
        "state_dict = torch.load(state_dict_loc, map_location=device)\n",
        "torch_model.load_state_dict(state_dict)\n",
        "\n",
        "# Format the PyTorch tensor to fit the CNN's input dimensions\n",
        "x = vecToMatEncoding(X_torch, numBpWise=numBpWise)\n",
        "\n",
        "# Prepare for model inference by setting torch_model to evaluation mode \n",
        "torch_model.eval()\n",
        "\n",
        "# Predict the CRISPR-Cas9 cleavage activity\n",
        "pred = torch_model(x).cpu().flatten().detach().numpy()\n",
        "\n",
        "# Print results\n",
        "print('Predicted CRISPR-Cas9 Cleavage Activity: {:.3f}'.format(pred[0]))\n",
        "# on CPU/GPU: -0.669"
      ],
      "metadata": {
        "colab": {
          "base_uri": "https://localhost:8080/"
        },
        "id": "4_2ikSJnFgwE",
        "outputId": "4a12c8d9-3d77-4e8c-9f22-d9be8401adbc"
      },
      "execution_count": 29,
      "outputs": [
        {
          "output_type": "stream",
          "name": "stdout",
          "text": [
            "Predicted CRISPR-Cas9 Cleavage Activity: -0.669\n"
          ]
        }
      ]
    },
    {
      "cell_type": "markdown",
      "source": [
        "### 2. Use PyTorch CNN model to predict CRISPR activity for 2000 randomly selected points from the crisprSQL dataset\n",
        "Corresponds to cnn_predict.py"
      ],
      "metadata": {
        "id": "m3yHSAuD80xb"
      }
    },
    {
      "cell_type": "code",
      "execution_count": 30,
      "metadata": {
        "colab": {
          "base_uri": "https://localhost:8080/"
        },
        "id": "jmuGz9wI5zJa",
        "outputId": "c2f008ac-25df-48b1-90d2-977de85b0200"
      },
      "outputs": [
        {
          "output_type": "stream",
          "name": "stdout",
          "text": [
            "Predicted CRISPR-Cas9 Cleavage Activities: [-0.669225   -4.1682196  -1.7856159  ... -0.58595705 -0.9737004\n",
            " -4.1463737 ]\n"
          ]
        }
      ],
      "source": [
        "import numpy as np\n",
        "import pandas as pd\n",
        "import torch\n",
        "import matplotlib.pyplot as plt\n",
        "\n",
        "# This Python script uses the following data and model files:\n",
        "# 1. An input CSV file containing 2000 random experimental/augmented datapoints\n",
        "#    from the crisprSQL dataset in the paper\n",
        "input_feat_loc = folder_prefix + 'data/crisprSQL_dataset_2000.csv'\n",
        "# 2. PyTorch model file containing the convolutional neural network (CNN) model\n",
        "#    which predicts CRISPR-Cas9 (off-)target cleavage activity.\n",
        "state_dict_loc = folder_prefix + 'models/cnn_model.pt'\n",
        "\n",
        "# We will save the predictions in the \"out\" folder\n",
        "out_loc = folder_prefix + 'out/cnn_preds.csv'\n",
        "\n",
        "### IMPORTANT CONSTANTS ###\n",
        "numBpWise = 13 # Number of base pair-resolved computed\n",
        "               # nucleosome organization-related scores/features\n",
        "epiDim = 22 # The total number of epigenetic features considered\n",
        "###########################\n",
        "\n",
        "# Read in the crisprSQL data points\n",
        "X_df = pd.read_csv(input_feat_loc)\n",
        "\n",
        "# Convert the Pandas DataFrame into a PyTorch tensor\n",
        "X_torch = torch.as_tensor(X_df.to_numpy()).float()\n",
        "\n",
        "# Decide which compute device to use when using PyTorch.\n",
        "# Use a GPU if available, CPU otherwise.\n",
        "device = torch.device('cuda' if torch.cuda.is_available() else 'cpu')\n",
        "\n",
        "# Create convolutional neural network regression PyTorch model\n",
        "torch_model = ConvolutionalNet(epiDim, device=device)\n",
        "\n",
        "# Load saved PyTorch weights\n",
        "state_dict = torch.load(state_dict_loc, map_location=device)\n",
        "torch_model.load_state_dict(state_dict)\n",
        "\n",
        "# Format the PyTorch tensor to fit the CNN's input dimensions\n",
        "x = vecToMatEncoding(X_torch, numBpWise=numBpWise)\n",
        "\n",
        "# Prepare for model inference by setting torch_model to evaluation mode \n",
        "torch_model.eval()\n",
        "\n",
        "# Predict CRISPR-Cas9 cleavage activities\n",
        "preds_y = torch_model(x).cpu().flatten().detach().numpy()\n",
        "\n",
        "# Save the predictions\n",
        "pd.DataFrame(preds_y).to_csv(out_loc)\n",
        "\n",
        "# Print results\n",
        "print('Predicted CRISPR-Cas9 Cleavage Activities:', preds_y)\n",
        "# Result varies due to floating point precision arithmetic\n",
        "# Example outputs:\n",
        "# on CPU: [-0.669225   -4.1682196  -1.7856159  ... -0.58595717 -0.97370046\n",
        "# -4.1463737 ]\n",
        "# on GPU: [-0.6692251  -4.1682186  -1.7856162  ... -0.58595747 -0.9737008\n",
        "# -4.1463733 ]"
      ]
    },
    {
      "cell_type": "markdown",
      "source": [
        "### 3. Varying Nucleotide BDM, GC147 and NuPoP (Affinity) values in PyTorch CNN model\n",
        "Corresponds to cnn_vary.py"
      ],
      "metadata": {
        "id": "eHlg1zFK84vP"
      }
    },
    {
      "cell_type": "code",
      "execution_count": 27,
      "metadata": {
        "colab": {
          "base_uri": "https://localhost:8080/",
          "height": 1000
        },
        "id": "mL-UeiSt0XpU",
        "outputId": "4e09eb63-3980-4736-e639-865e4df08323"
      },
      "outputs": [
        {
          "output_type": "stream",
          "name": "stdout",
          "text": [
            "Nucleotide BDM's value ranges from 172.66 to 480.48\n"
          ]
        },
        {
          "output_type": "display_data",
          "data": {
            "text/plain": [
              "<Figure size 432x288 with 1 Axes>"
            ],
            "image/png": "[encoded data removed]"
          },
          "metadata": {
            "needs_background": "light"
          }
        },
        {
          "output_type": "stream",
          "name": "stdout",
          "text": [
            "GC147's value ranges from 0.25 to 0.86\n"
          ]
        },
        {
          "output_type": "display_data",
          "data": {
            "text/plain": [
              "<Figure size 432x288 with 1 Axes>"
            ],
            "image/png": "[encoded data removed]"
          },
          "metadata": {
            "needs_background": "light"
          }
        },
        {
          "output_type": "stream",
          "name": "stdout",
          "text": [
            "NuPoP (Affinity)'s value ranges from 0.50 to 2.13\n"
          ]
        },
        {
          "output_type": "display_data",
          "data": {
            "text/plain": [
              "<Figure size 432x288 with 1 Axes>"
            ],
            "image/png": "[encoded data removed]"
          },
          "metadata": {
            "needs_background": "light"
          }
        },
        {
          "output_type": "error",
          "ename": "NameError",
          "evalue": "ignored",
          "traceback": [
            "\u001b[0;31m---------------------------------------------------------------------------\u001b[0m",
            "\u001b[0;31mNameError\u001b[0m                                 Traceback (most recent call last)",
            "\u001b[0;32m<ipython-input-27-4cf0c012b61f>\u001b[0m in \u001b[0;36m<module>\u001b[0;34m\u001b[0m\n\u001b[1;32m    145\u001b[0m \u001b[0;31m# We observe the following tendencies in the plots:\u001b[0m\u001b[0;34m\u001b[0m\u001b[0;34m\u001b[0m\u001b[0;34m\u001b[0m\u001b[0m\n\u001b[1;32m    146\u001b[0m \u001b[0;31m#   - increasing Nucleotide BDM value increases CRISPR-Cas9 cleavage activity\u001b[0m\u001b[0;34m\u001b[0m\u001b[0;34m\u001b[0m\u001b[0;34m\u001b[0m\u001b[0m\n\u001b[0;32m--> 147\u001b[0;31m \u001b[0mvalue\u001b[0m\u001b[0;34m\u001b[0m\u001b[0;34m\u001b[0m\u001b[0m\n\u001b[0m\u001b[1;32m    148\u001b[0m \u001b[0;31m#   - increasing GC147 increases CRISPR-Cas9 cleavage activity value\u001b[0m\u001b[0;34m\u001b[0m\u001b[0;34m\u001b[0m\u001b[0;34m\u001b[0m\u001b[0m\n\u001b[1;32m    149\u001b[0m \u001b[0;31m#   - increasing NuPoP (Affinity) value decreases CRISPR-Cas9 cleavage activity\u001b[0m\u001b[0;34m\u001b[0m\u001b[0;34m\u001b[0m\u001b[0;34m\u001b[0m\u001b[0m\n",
            "\u001b[0;31mNameError\u001b[0m: name 'value' is not defined"
          ]
        }
      ],
      "source": [
        "import numpy as np\n",
        "import pandas as pd\n",
        "import torch\n",
        "import matplotlib.pyplot as plt\n",
        "\n",
        "# Nucleotide BDM, GC147 and NuPoP (Affinity) are identified as important\n",
        "# computed nucleosome organization-related scores. Thus, in this Python script,\n",
        "# we vary the values of these scores, and see how such varied values\n",
        "# affect XGBoost's predictions.\n",
        "\n",
        "# This Python script uses the following data and model files:\n",
        "# 1. An input CSV file containing 2000 random experimental/augmented datapoints\n",
        "#    from the crisprSQL dataset in the paper\n",
        "csv_loc = folder_prefix + 'data/crisprSQL_dataset_2000.csv'\n",
        "# 2. PyTorch model file containing the convolutional neural network (CNN) model\n",
        "#    which predicts CRISPR-Cas9 (off-)target cleavage activity.\n",
        "state_dict_loc = folder_prefix + 'models/cnn_model.pt'\n",
        "\n",
        "# The plots generated will be saved in these relative locations\n",
        "out_dict = {'Nucleotide BDM': 'out/cnn_vary_nucleotide_bdm.pdf',\n",
        "            'GC147': 'out/cnn_vary_gc147.pdf',\n",
        "            'NuPoP (Affinity)': 'out/cnn_vary_nupop_affinity.pdf'}\n",
        "\n",
        "### IMPORTANT CONSTANTS ### \n",
        "# Don't change these!\n",
        "TAR_SEQ_LEN = 23 # target DNA sequence's length\n",
        "epiDim = 22 # The total number of epigenetic features considered\n",
        "numBpWise = 13 # Number of base pair-resolved nucleosome organization-related\n",
        "               # scores/features\n",
        "\n",
        "# Feel free to change\n",
        "NUM_SAMPLES = 5 # Number of random datapoints to select for visualization,\n",
        "                 # i.e., number of row to select from the input CSV file\n",
        "NUM_VARIED = 20 # Number of varied points per random datapoint\n",
        "###########################\n",
        "\n",
        "# Read the input CSV file\n",
        "X_df = pd.read_csv(csv_loc)\n",
        "\n",
        "# Decide which compute device to use when using PyTorch.\n",
        "# Use a GPU if available, CPU otherwise.\n",
        "device = torch.device('cuda' if torch.cuda.is_available() else 'cpu')\n",
        "\n",
        "# Create convolutional neural network regression PyTorch model\n",
        "torch_model = ConvolutionalNet(epiDim, device=device)\n",
        "\n",
        "# Load saved PyTorch weights\n",
        "state_dict = torch.load(state_dict_loc, map_location=device)\n",
        "torch_model.load_state_dict(state_dict)\n",
        "\n",
        "# These are the column/feature names corresponding to ...\n",
        "# (a) Nucleotide BDM\n",
        "NBDM_feats = ['NucleotideBDM_' + str(i) for i in range(1, 1 + TAR_SEQ_LEN)]\n",
        "# (b) GC147\n",
        "GC_feats = ['GCContent_' + str(i) for i in range(1, 1 + TAR_SEQ_LEN)]\n",
        "# (c) NuPoP (Affinity)\n",
        "NuPoP_Aff_feats = ['NuPoP_Affinity_147_h'] + \\\n",
        "                  ['NuPoP_Affinity_147_h.' + str(i) for i in range(1,\n",
        "                                                                  TAR_SEQ_LEN)]\n",
        "# Put these features into a dictionary\n",
        "feats_dict = {'Nucleotide BDM': NBDM_feats,\n",
        "              'GC147': GC_feats,\n",
        "              'NuPoP (Affinity)': NuPoP_Aff_feats}\n",
        "\n",
        "# To obtain sensible value ranges, we exclude data points with zeros across\n",
        "# all computed nucleosome organization-related score, since these zeros arise\n",
        "# from data imputation during training.\n",
        "non_zero_X_df = X_df[X_df['GCContent_1'] > 0]\n",
        "\n",
        "# Set values ranges for each computed score to be within the minimum and\n",
        "# maximum value of the respective features, i.e., we vary within the ranges\n",
        "# of the dataset.\n",
        "ranges_dict = {'Nucleotide BDM': (non_zero_X_df[NBDM_feats].min(axis=1).min(),\n",
        "                                  non_zero_X_df[NBDM_feats].max(axis=1).max()),\n",
        "              'GC147': (non_zero_X_df[GC_feats].min(axis=1).min(),\n",
        "                        non_zero_X_df[GC_feats].max(axis=1).max()),\n",
        "              'NuPoP (Affinity)': (non_zero_X_df[NuPoP_Aff_feats].min(axis=1).min(),\n",
        "                                   non_zero_X_df[NuPoP_Aff_feats].max(axis=1).max())}\n",
        "\n",
        "# We select five random data points...\n",
        "X_sample = X_df.sample(NUM_SAMPLES)\n",
        "\n",
        "# Generate plots for each of the three computed scores\n",
        "for feat_name, feats in feats_dict.items():\n",
        "  min_val, max_val = ranges_dict[feat_name]\n",
        "  print(\"{}'s value ranges from {:.2f} to {:.2f}\".format(feat_name,\n",
        "                                                         min_val, max_val))\n",
        "\n",
        "  # For each data point...\n",
        "  for i in range(NUM_SAMPLES):\n",
        "    point_chosen = X_sample.iloc[i]\n",
        "\n",
        "    # Create a Pandas dataframe for the random datapoint\n",
        "    example_df = pd.DataFrame(point_chosen).transpose()\n",
        "\n",
        "    # Determine the varied values to change to\n",
        "    varied_vals = np.linspace(min_val, max_val, NUM_VARIED)\n",
        "\n",
        "    # Create the artificial datapoints containing the varied values\n",
        "    vary_df = example_df.loc[example_df.index.repeat(len(varied_vals))]\n",
        "    for feat in feats:\n",
        "      vary_df[feat] = varied_vals\n",
        "\n",
        "    # # Make predictions for these artificial datapoints\n",
        "    # preds = xgb_model.predict(vary_df)\n",
        "\n",
        "    # Convert the Pandas DataFrame into a PyTorch tensor\n",
        "    X_torch = torch.as_tensor(vary_df.to_numpy()).float()\n",
        "\n",
        "    # Format the PyTorch tensor to fit the CNN's input dimensions\n",
        "    x = vecToMatEncoding(X_torch, numBpWise=13)\n",
        "\n",
        "    # Prepare for model inference by setting torch_model to evaluation mode \n",
        "    torch_model.eval()\n",
        "\n",
        "    # Make CRISPR-Cas9 cleavage activity predictions for these artificial datapoints\n",
        "    preds = torch_model(x).cpu().flatten().detach().numpy()\n",
        "\n",
        "    # Plot the line\n",
        "    plt.plot(varied_vals, preds)\n",
        "\n",
        "  # Set...\n",
        "  # the plot's minimum and maximum x-value, ...\n",
        "  plt.xlim(min_val, max_val)\n",
        "  # the x-axis's name, and\n",
        "  plt.xlabel(\"Varied {} Value\".format(feat_name))\n",
        "  # the y-axis's name\n",
        "  plt.ylabel(\"Predicted CRISPR-Cas9 Cleavage Activity\")\n",
        "\n",
        "  # Save the plot\n",
        "  plt.savefig(folder_prefix + out_dict[feat_name])\n",
        "\n",
        "  # This is an IPython notebook, so let's show the figures when running\n",
        "  # this cell\n",
        "  plt.show()\n",
        "\n",
        "  # Close the current figure\n",
        "  plt.close()\n",
        " \n",
        "# The script prints:\n",
        "# Nucleotide BDM's value ranges from 172.66 to 480.48\n",
        "# GC147's value ranges from 0.25 to 0.86\n",
        "# NuPoP (Affinity)'s value ranges from 0.50 to 2.13\n",
        "\n",
        "# We observe the following tendencies in the plots:\n",
        "#   - increasing Nucleotide BDM value increases predicted CRISPR-Cas9 cleavage\n",
        "#     activity value\n",
        "#   - increasing GC147 increases predicted CRISPR-Cas9 cleavage activity value\n",
        "#   - increasing NuPoP (Affinity) value decreases predicted CRISPR-Cas9 cleavage\n",
        "#     activity value"
      ]
    },
    {
      "cell_type": "code",
      "source": [
        "#"
      ],
      "metadata": {
        "id": "XEMXXA4LZdLA"
      },
      "execution_count": null,
      "outputs": []
    }
  ],
  "metadata": {
    "colab": {
      "collapsed_sections": [],
      "provenance": [],
      "toc_visible": true
    },
    "gpuClass": "standard",
    "kernelspec": {
      "display_name": "Python 3",
      "name": "python3"
    },
    "language_info": {
      "name": "python"
    }
  },
  "nbformat": 4,
  "nbformat_minor": 0
}